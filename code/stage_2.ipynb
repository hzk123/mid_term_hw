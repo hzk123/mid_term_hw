{
 "cells": [
  {
   "cell_type": "markdown",
   "metadata": {},
   "source": [
    "# Methods\n",
    "* I find this Kernel from https://www.kaggle.com/obichkin/top10-solution-on-xgboost/versions\n",
    "\n",
    "* the result is not like validation data because of the input data is too small\n",
    "* I find this kernel https://www.kaggle.com/dlarionov/feature-engineering-xgboost is very hard to improve , this method create too much useless feature , and very easy to overfit\n"
   ]
  },
  {
   "cell_type": "markdown",
   "metadata": {
    "_uuid": "1b61e88634c494d01e8b33844bb9e3ed5995b5fa"
   },
   "source": [
    "# Load the data"
   ]
  },
  {
   "cell_type": "code",
   "execution_count": 7,
   "metadata": {},
   "outputs": [
    {
     "data": {
      "text/plain": [
       "['items.csv',\n",
       " 'test.csv.gz',\n",
       " '.ipynb_checkpoints',\n",
       " 'sales_train.csv.gz',\n",
       " 'Top10 solution on XGBoost.ipynb',\n",
       " 'sample_submission.csv.gz',\n",
       " 'shops.csv',\n",
       " 'item_categories.csv']"
      ]
     },
     "execution_count": 7,
     "metadata": {},
     "output_type": "execute_result"
    }
   ],
   "source": [
    "import os\n",
    "os.listdir(\"./\")"
   ]
  },
  {
   "cell_type": "code",
   "execution_count": 8,
   "metadata": {
    "_uuid": "9e6850c5059c6f33f506c61a07040798f683fe40"
   },
   "outputs": [],
   "source": [
    "import pandas as pd\n",
    "import numpy as np\n",
    "import gc\n",
    "import itertools\n",
    "from tqdm import tqdm_notebook\n",
    "import seaborn as sns\n",
    "import matplotlib.pyplot as plt\n",
    "%matplotlib inline\n",
    "\n",
    "import os\n",
    "DATA_FOLDER = './'\n",
    "train     = pd.read_csv(os.path.join(DATA_FOLDER, 'sales_train.csv.gz'))\n",
    "items     = pd.read_csv(os.path.join(DATA_FOLDER, 'items.csv'))\n",
    "item_cats = pd.read_csv(os.path.join(DATA_FOLDER, 'item_categories.csv'))\n",
    "shops     = pd.read_csv(os.path.join(DATA_FOLDER, 'shops.csv'))\n",
    "test      = pd.read_csv(os.path.join(DATA_FOLDER, 'test.csv.gz'))\n",
    "test['date_block_num'] = 34\n",
    "groupby_cols = ['date_block_num', 'shop_id', 'item_id']"
   ]
  },
  {
   "cell_type": "markdown",
   "metadata": {
    "_uuid": "9954f603ab4dcafe87624c057798da67a46815ac"
   },
   "source": [
    "# Add some features\n",
    "\n",
    "I did not extract too much information from text fields, just 2 features:\n",
    "**city** (which is also encoded in **shop_id**),\n",
    "and **meta_cat** (some meta category, higher level aggregation of a **category** field)"
   ]
  },
  {
   "cell_type": "code",
   "execution_count": 9,
   "metadata": {
    "_uuid": "a4ffd00b3b97bba6c11886c2da7c9fb5343db852"
   },
   "outputs": [],
   "source": [
    "#category\n",
    "cat = items[['item_id', 'item_category_id']].drop_duplicates()\n",
    "cat.set_index(['item_id'], inplace=True)\n",
    "cat = cat.item_category_id\n",
    "train['cat'] = train.item_id.map(cat)\n",
    "\n",
    "#meta_category   games, gifts, work, etc.\n",
    "item_cats['meta_cat'] = item_cats.item_category_name.apply(lambda x: x.split(' ')[0])\n",
    "item_cats['meta_cat'] = pd.Categorical(item_cats.meta_cat).codes\n",
    "item_cats.set_index(['item_category_id'], inplace=True)\n",
    "meta_cat = item_cats.meta_cat\n",
    "train['meta_cat'] = train.cat.map(meta_cat)\n",
    "\n",
    "#city\n",
    "shops['city'] = shops.shop_name.apply(lambda x: str.replace(x, '!', '')).apply(lambda x: x.split(' ')[0])\n",
    "shops['city'] = pd.Categorical(shops['city']).codes\n",
    "city = shops.city\n",
    "train['city'] = train.shop_id.map(city)\n",
    "\n",
    "#year\n",
    "year = pd.concat([train.date_block_num, train.date.apply(lambda x: int(x.split('.')[2]))], axis=1).drop_duplicates()\n",
    "year.set_index(['date_block_num'], inplace=True)\n",
    "year = year.date.append( pd.Series([2015], index=[34]) )\n",
    "\n",
    "#month\n",
    "month = pd.concat([train.date_block_num, train.date.apply(lambda x: int(x.split('.')[1]))], axis=1).drop_duplicates()\n",
    "month.set_index(['date_block_num'], inplace=True)\n",
    "month = month.date.append( pd.Series([11], index=[34]) )"
   ]
  },
  {
   "cell_type": "code",
   "execution_count": 10,
   "metadata": {
    "_uuid": "4f72ec5479635e4b40ac4a0fd1c8e67e46168f7c"
   },
   "outputs": [
    {
     "name": "stderr",
     "output_type": "stream",
     "text": [
      "/home/ginko/.local/lib/python3.5/site-packages/pandas/core/frame.py:6211: FutureWarning: Sorting because non-concatenation axis is not aligned. A future version\n",
      "of pandas will change to not sort by default.\n",
      "\n",
      "To accept the future behavior, pass 'sort=False'.\n",
      "\n",
      "To retain the current behavior and silence the warning, pass 'sort=True'.\n",
      "\n",
      "  sort=sort)\n"
     ]
    }
   ],
   "source": [
    "all_shops_items = []\n",
    "\n",
    "for block_num in train['date_block_num'].unique():\n",
    "    unique_shops = train[ train['date_block_num']==block_num ]['shop_id'].unique()\n",
    "    unique_items = train[ train['date_block_num']==block_num ]['item_id'].unique()\n",
    "    all_shops_items.append( np.array( list( itertools.product([block_num], unique_shops, unique_items) ), dtype='int32' ) )\n",
    "\n",
    "df = pd.DataFrame( np.vstack( all_shops_items ), columns=groupby_cols , dtype='int32')\n",
    "df = df.append(test )\n",
    "\n",
    "df['ID'] = df.ID.fillna(-1).astype('int32')\n",
    "\n",
    "df['year'] = df.date_block_num.map(year)\n",
    "df['month'] = df.date_block_num.map(month)\n",
    "df['cat'] = df.item_id.map(cat)\n",
    "df['meta_cat'] = df.cat.map(meta_cat)\n",
    "df['city'] = df.shop_id.map(city)\n",
    "train['cat'] = train.item_id.map(cat)"
   ]
  },
  {
   "cell_type": "code",
   "execution_count": 11,
   "metadata": {
    "_uuid": "8691bed154f806ba080db0971e8676dfa328db97"
   },
   "outputs": [
    {
     "data": {
      "text/html": [
       "<div>\n",
       "<style scoped>\n",
       "    .dataframe tbody tr th:only-of-type {\n",
       "        vertical-align: middle;\n",
       "    }\n",
       "\n",
       "    .dataframe tbody tr th {\n",
       "        vertical-align: top;\n",
       "    }\n",
       "\n",
       "    .dataframe thead th {\n",
       "        text-align: right;\n",
       "    }\n",
       "</style>\n",
       "<table border=\"1\" class=\"dataframe\">\n",
       "  <thead>\n",
       "    <tr style=\"text-align: right;\">\n",
       "      <th></th>\n",
       "      <th>ID</th>\n",
       "      <th>date_block_num</th>\n",
       "      <th>item_id</th>\n",
       "      <th>shop_id</th>\n",
       "      <th>year</th>\n",
       "      <th>month</th>\n",
       "      <th>cat</th>\n",
       "      <th>meta_cat</th>\n",
       "      <th>city</th>\n",
       "    </tr>\n",
       "  </thead>\n",
       "  <tbody>\n",
       "    <tr>\n",
       "      <th>4527089</th>\n",
       "      <td>-1</td>\n",
       "      <td>12</td>\n",
       "      <td>11464</td>\n",
       "      <td>58</td>\n",
       "      <td>2014</td>\n",
       "      <td>1</td>\n",
       "      <td>40</td>\n",
       "      <td>7</td>\n",
       "      <td>29</td>\n",
       "    </tr>\n",
       "    <tr>\n",
       "      <th>2560201</th>\n",
       "      <td>-1</td>\n",
       "      <td>6</td>\n",
       "      <td>15715</td>\n",
       "      <td>46</td>\n",
       "      <td>2013</td>\n",
       "      <td>7</td>\n",
       "      <td>37</td>\n",
       "      <td>7</td>\n",
       "      <td>21</td>\n",
       "    </tr>\n",
       "    <tr>\n",
       "      <th>8526764</th>\n",
       "      <td>-1</td>\n",
       "      <td>24</td>\n",
       "      <td>15063</td>\n",
       "      <td>26</td>\n",
       "      <td>2015</td>\n",
       "      <td>1</td>\n",
       "      <td>30</td>\n",
       "      <td>5</td>\n",
       "      <td>13</td>\n",
       "    </tr>\n",
       "    <tr>\n",
       "      <th>8366176</th>\n",
       "      <td>-1</td>\n",
       "      <td>23</td>\n",
       "      <td>13133</td>\n",
       "      <td>5</td>\n",
       "      <td>2014</td>\n",
       "      <td>12</td>\n",
       "      <td>57</td>\n",
       "      <td>9</td>\n",
       "      <td>3</td>\n",
       "    </tr>\n",
       "    <tr>\n",
       "      <th>4232658</th>\n",
       "      <td>-1</td>\n",
       "      <td>11</td>\n",
       "      <td>16626</td>\n",
       "      <td>17</td>\n",
       "      <td>2013</td>\n",
       "      <td>12</td>\n",
       "      <td>37</td>\n",
       "      <td>7</td>\n",
       "      <td>11</td>\n",
       "    </tr>\n",
       "  </tbody>\n",
       "</table>\n",
       "</div>"
      ],
      "text/plain": [
       "         ID  date_block_num  item_id  shop_id  year  month  cat  meta_cat  \\\n",
       "4527089  -1              12    11464       58  2014      1   40         7   \n",
       "2560201  -1               6    15715       46  2013      7   37         7   \n",
       "8526764  -1              24    15063       26  2015      1   30         5   \n",
       "8366176  -1              23    13133        5  2014     12   57         9   \n",
       "4232658  -1              11    16626       17  2013     12   37         7   \n",
       "\n",
       "         city  \n",
       "4527089    29  \n",
       "2560201    21  \n",
       "8526764    13  \n",
       "8366176     3  \n",
       "4232658    11  "
      ]
     },
     "execution_count": 11,
     "metadata": {},
     "output_type": "execute_result"
    }
   ],
   "source": [
    "df.sample(5)"
   ]
  },
  {
   "cell_type": "markdown",
   "metadata": {
    "_uuid": "db404177184b14697edb339d586ab452104c971f"
   },
   "source": [
    "# Some plots.\n",
    "Overall trend - the sales are decreasing. Peaks on December. date_block_num's [0: 12] contain quite a lot of training data, it is useful to keep them in the training set."
   ]
  },
  {
   "cell_type": "code",
   "execution_count": 12,
   "metadata": {
    "_uuid": "61e743354d2b03b5c2f4e663faad5d90df7928c7"
   },
   "outputs": [
    {
     "data": {
      "text/plain": [
       "<matplotlib.axes._subplots.AxesSubplot at 0x7f37aa1154a8>"
      ]
     },
     "execution_count": 12,
     "metadata": {},
     "output_type": "execute_result"
    },
    {
     "data": {
      "image/png": "[encoded data removed]",
      "text/plain": [
       "<Figure size 432x288 with 1 Axes>"
      ]
     },
     "metadata": {},
     "output_type": "display_data"
    }
   ],
   "source": [
    "gb = train.groupby(by=['date_block_num'], as_index=False).agg({ 'item_cnt_day': ['sum']})\n",
    "sns.barplot(x=gb['date_block_num'], y=gb['item_cnt_day']['sum'])"
   ]
  },
  {
   "cell_type": "markdown",
   "metadata": {
    "_uuid": "ff41f576936a9a582478fcb812d0c52f952a8c8d"
   },
   "source": [
    "Most of the target values are just Zeros."
   ]
  },
  {
   "cell_type": "markdown",
   "metadata": {
    "_uuid": "22ddc93f3367821e35933206d8379990e07d7982"
   },
   "source": [
    "# Calculating different aggregations"
   ]
  },
  {
   "cell_type": "code",
   "execution_count": 15,
   "metadata": {
    "_uuid": "398a15a5cf77392497f5638782bce08e980c0ede"
   },
   "outputs": [],
   "source": [
    "gb = train.groupby(by=groupby_cols, as_index=False).agg({ 'item_cnt_day': ['sum']})\n",
    "gb.columns = [val[0] if val[-1]=='' else '_'.join(val) for val in gb.columns.values]\n",
    "gb.rename(columns={'item_cnt_day_sum':'target'}, inplace=True)\n",
    "df = pd.merge(df, gb, how='left', on=groupby_cols)\n",
    "\n",
    "gb = train.groupby(by=['date_block_num', 'item_id'], as_index=False).agg({'item_cnt_day':['sum']})\n",
    "gb.columns = [val[0] if val[-1]=='' else '_'.join(val) for val in gb.columns.values]\n",
    "gb.rename(columns={'item_cnt_day_sum':'target_item'}, inplace=True)\n",
    "df = pd.merge(df, gb, how='left', on=['date_block_num', 'item_id'])\n",
    "\n",
    "gb = train.groupby(by=['date_block_num', 'shop_id'], as_index=False).agg({'item_cnt_day':['sum']})\n",
    "gb.columns = [val[0] if val[-1]=='' else '_'.join(val) for val in gb.columns.values]\n",
    "gb.rename(columns={'item_cnt_day_sum':'target_shop'}, inplace=True)\n",
    "df = pd.merge(df, gb, how='left', on=['date_block_num', 'shop_id'])\n",
    "\n",
    "gb = train.groupby( by=['date_block_num', 'cat'], as_index=False).agg({ 'item_cnt_day': ['sum'] })\n",
    "gb.columns = [val[0] if val[-1]=='' else '_'.join(val) for val in gb.columns.values]\n",
    "gb.rename(columns={'item_cnt_day_sum':'target_cat'}, inplace=True)\n",
    "df = pd.merge(df, gb, how='left', on=['date_block_num', 'cat'])\n",
    "\n",
    "gb = train.groupby(by=['date_block_num', 'item_id'], as_index=False).agg({'item_price':['mean', 'max']})\n",
    "gb.columns = [val[0] if val[-1]=='' else '_'.join(val) for val in gb.columns.values]\n",
    "gb.rename(columns={'item_price_mean':'target_price_mean', 'item_price_max':'target_price_max'}, inplace=True)\n",
    "df = pd.merge(df, gb, how='left', on=['date_block_num', 'item_id'])"
   ]
  },
  {
   "cell_type": "markdown",
   "metadata": {
    "_uuid": "02ca217052b450f3d54db3b81eae0492e8e75ad3"
   },
   "source": [
    "# Clipping some outlier prices"
   ]
  },
  {
   "cell_type": "code",
   "execution_count": 16,
   "metadata": {
    "_uuid": "39d7335ed56341472fcd68b18c94f3667093d73e"
   },
   "outputs": [
    {
     "name": "stderr",
     "output_type": "stream",
     "text": [
      "/home/ginko/.local/lib/python3.5/site-packages/ipykernel_launcher.py:1: RuntimeWarning: invalid value encountered in minimum\n",
      "  \"\"\"Entry point for launching an IPython kernel.\n",
      "/home/ginko/.local/lib/python3.5/site-packages/ipykernel_launcher.py:2: RuntimeWarning: invalid value encountered in minimum\n",
      "  \n"
     ]
    }
   ],
   "source": [
    "df['target_price_mean'] = np.minimum(df['target_price_mean'], df['target_price_mean'].quantile(0.99))\n",
    "df['target_price_max'] = np.minimum(df['target_price_max'], df['target_price_max'].quantile(0.99))\n",
    "\n",
    "df.fillna(0, inplace=True)\n",
    "df['target'] = df['target'].clip(0, 20)\n",
    "df['target_zero'] = (df['target'] > 0).astype(\"int32\")"
   ]
  },
  {
   "cell_type": "markdown",
   "metadata": {
    "_uuid": "50c7490f92df8d55f2781b148c0e4aab320f1a5d"
   },
   "source": [
    "# Mean Encodings"
   ]
  },
  {
   "cell_type": "code",
   "execution_count": 17,
   "metadata": {
    "_uuid": "0906b2554b0a17e600955345a67c689a7b4dd529"
   },
   "outputs": [
    {
     "name": "stdout",
     "output_type": "stream",
     "text": [
      "enc_shop_id_cat enc_max_shop_id_cat\n"
     ]
    },
    {
     "data": {
      "application/vnd.jupyter.widget-view+json": {
       "model_id": "41db3a57c5674946be5a387147885ed6",
       "version_major": 2,
       "version_minor": 0
      },
      "text/plain": [
       "HBox(children=(IntProgress(value=0, max=35), HTML(value='')))"
      ]
     },
     "metadata": {},
     "output_type": "display_data"
    },
    {
     "name": "stdout",
     "output_type": "stream",
     "text": [
      "\n",
      "enc_shop_id_item_id enc_max_shop_id_item_id\n"
     ]
    },
    {
     "data": {
      "application/vnd.jupyter.widget-view+json": {
       "model_id": "7d91b6e9597d4feba1eb0d4fe631a253",
       "version_major": 2,
       "version_minor": 0
      },
      "text/plain": [
       "HBox(children=(IntProgress(value=0, max=35), HTML(value='')))"
      ]
     },
     "metadata": {},
     "output_type": "display_data"
    },
    {
     "name": "stdout",
     "output_type": "stream",
     "text": [
      "\n",
      "enc_shop_id enc_max_shop_id\n"
     ]
    },
    {
     "data": {
      "application/vnd.jupyter.widget-view+json": {
       "model_id": "3ce9d370671143ef934a6fb399879e98",
       "version_major": 2,
       "version_minor": 0
      },
      "text/plain": [
       "HBox(children=(IntProgress(value=0, max=35), HTML(value='')))"
      ]
     },
     "metadata": {},
     "output_type": "display_data"
    },
    {
     "name": "stdout",
     "output_type": "stream",
     "text": [
      "\n",
      "enc_item_id enc_max_item_id\n"
     ]
    },
    {
     "data": {
      "application/vnd.jupyter.widget-view+json": {
       "model_id": "420d547e1d69487c9c6f3218c5807405",
       "version_major": 2,
       "version_minor": 0
      },
      "text/plain": [
       "HBox(children=(IntProgress(value=0, max=35), HTML(value='')))"
      ]
     },
     "metadata": {},
     "output_type": "display_data"
    },
    {
     "name": "stdout",
     "output_type": "stream",
     "text": [
      "\n",
      "CPU times: user 2min 3s, sys: 1min 15s, total: 3min 18s\n",
      "Wall time: 3min 18s\n"
     ]
    }
   ],
   "source": [
    "%%time\n",
    "for enc_cols in [['shop_id', 'cat'], ['shop_id', 'item_id'], ['shop_id'], ['item_id']]:\n",
    "    \n",
    "    col = '_'.join(['enc', *enc_cols])\n",
    "    col2 = '_'.join(['enc_max', *enc_cols])\n",
    "    df[col] = np.nan\n",
    "    df[col2] = np.nan\n",
    "    \n",
    "    print(col, col2)\n",
    "    \n",
    "    for d in tqdm_notebook(df.date_block_num.unique()):\n",
    "        \n",
    "\n",
    "        f1 = df.date_block_num < d\n",
    "        f2 = df.date_block_num == d\n",
    "\n",
    "        gb = df.loc[f1].groupby(enc_cols)[['target']].mean().reset_index()\n",
    "        enc = df.loc[f2][enc_cols].merge(gb, on=enc_cols, how='left' )[['target']].copy()\n",
    "        enc.set_index(df.loc[f2].index, inplace=True)\n",
    "        df.loc[f2, col] = enc['target']\n",
    "        \n",
    "        gb = df.loc[f1].groupby(enc_cols)[['target']].max().reset_index()\n",
    "        enc = df.loc[f2][enc_cols].merge(gb, on=enc_cols, how='left' )[['target']].copy()\n",
    "        enc.set_index(df.loc[f2].index, inplace=True)\n",
    "        df.loc[f2, col2] = enc['target']\n",
    "        "
   ]
  },
  {
   "cell_type": "code",
   "execution_count": 18,
   "metadata": {
    "_uuid": "3a71b77fd5ab6173ab013c3330ac553849c2d7c0"
   },
   "outputs": [],
   "source": [
    "def downcast_dtypes(df):\n",
    "    '''\n",
    "        Changes column types in the dataframe: \n",
    "                \n",
    "                `float64` type to `float32`\n",
    "                `int64`   type to `int32`\n",
    "    '''\n",
    "    \n",
    "    # Select columns to downcast\n",
    "    float32_cols = [c for c in df if df[c].dtype == \"float64\"]\n",
    "    int32_cols = [c for c in df if df[c].dtype in [\"int64\"] ]\n",
    "            \n",
    "    # Downcast\n",
    "    df[float32_cols] = df[float32_cols].astype(np.float32)\n",
    "    df[int32_cols]   = df[int32_cols].astype(np.int32)\n",
    "        \n",
    "    return df"
   ]
  },
  {
   "cell_type": "code",
   "execution_count": 19,
   "metadata": {
    "_uuid": "745bfd47c9f5c5643f9436851e1c0e272637db9b"
   },
   "outputs": [],
   "source": [
    "df.fillna(0, inplace=True)\n",
    "df = downcast_dtypes(df)"
   ]
  },
  {
   "cell_type": "markdown",
   "metadata": {
    "_uuid": "3b3c13325bc7f2542b6e88d074229af03632ca75"
   },
   "source": [
    "# Historical values"
   ]
  },
  {
   "cell_type": "code",
   "execution_count": 20,
   "metadata": {
    "_uuid": "93f26b01d7cafcb0c2855420126b87470db9b1b6"
   },
   "outputs": [],
   "source": [
    "import pandas as pd\n",
    "import numpy as np\n",
    "from tqdm import tqdm_notebook\n",
    "import os\n",
    "import gc\n",
    "from time import sleep\n",
    "\n",
    "groupby_cols = ['date_block_num', 'shop_id', 'item_id']\n",
    "shift_range = [1, 2, 3, 4, 5, 12]"
   ]
  },
  {
   "cell_type": "code",
   "execution_count": 21,
   "metadata": {
    "_uuid": "c5aef571923556296e2743b98f023abdb5a881f9"
   },
   "outputs": [
    {
     "name": "stdout",
     "output_type": "stream",
     "text": [
      "['target', 'target_item', 'target_shop', 'target_cat', 'target_price_mean', 'target_price_max', 'target_zero']\n"
     ]
    },
    {
     "data": {
      "application/vnd.jupyter.widget-view+json": {
       "model_id": "e66eaa77072249e78aef8e4755e9a9ee",
       "version_major": 2,
       "version_minor": 0
      },
      "text/plain": [
       "HBox(children=(IntProgress(value=0, max=6), HTML(value='')))"
      ]
     },
     "metadata": {},
     "output_type": "display_data"
    },
    {
     "name": "stdout",
     "output_type": "stream",
     "text": [
      "\n",
      "CPU times: user 33 s, sys: 26.2 s, total: 59.2 s\n",
      "Wall time: 1min 4s\n"
     ]
    }
   ],
   "source": [
    "%%time\n",
    "\n",
    "shifted_columns = [c for c in df if 'target' in c]\n",
    "print(shifted_columns)\n",
    "\n",
    "\n",
    "for shift in tqdm_notebook(shift_range):\n",
    "    \n",
    "    \n",
    "    shifted_data = df[groupby_cols + shifted_columns].copy()\n",
    "    shifted_data['date_block_num'] = shifted_data['date_block_num'] + shift\n",
    "    \n",
    "    foo = lambda x: '{}_lag_{}'.format(x, shift) if x in shifted_columns else x\n",
    "    shifted_data = shifted_data.rename(columns=foo)\n",
    "    \n",
    "    \n",
    "    df = pd.merge(df, shifted_data, how='left', on=groupby_cols).fillna(0)\n",
    "    df = downcast_dtypes(df)\n",
    "\n",
    "    del shifted_data\n",
    "    gc.collect()\n",
    "    sleep(1)"
   ]
  },
  {
   "cell_type": "markdown",
   "metadata": {
    "_uuid": "79de7107f03732aa645b354da6c8be7e0a5779c8"
   },
   "source": [
    "# Features Interaction\n",
    "A big breakthrough happened, when i encoded these interactions. Check it out."
   ]
  },
  {
   "cell_type": "code",
   "execution_count": 22,
   "metadata": {
    "_uuid": "af94ab9623169cb99d875fa9ae4d8baf0ddad0ad"
   },
   "outputs": [],
   "source": [
    "df['target_trend_1_2'] = df['target_lag_1'] - df['target_lag_2']\n",
    "df['target_predict_1_2'] = df['target_lag_1']*2 - df['target_lag_2']\n",
    "\n"
   ]
  },
  {
   "cell_type": "code",
   "execution_count": 23,
   "metadata": {},
   "outputs": [],
   "source": [
    "df = downcast_dtypes(df)\n"
   ]
  },
  {
   "cell_type": "code",
   "execution_count": 24,
   "metadata": {},
   "outputs": [],
   "source": [
    "df['target_trend_3_4'] = df['target_lag_1'] + df['target_lag_2'] - df['target_lag_3'] - df['target_lag_4']\n",
    "df['target_predict_3_4'] = (df['target_lag_1'] + df['target_lag_2'])*2 - df['target_lag_3'] - df['target_lag_4']"
   ]
  },
  {
   "cell_type": "code",
   "execution_count": 25,
   "metadata": {},
   "outputs": [],
   "source": [
    "df = downcast_dtypes(df)\n"
   ]
  },
  {
   "cell_type": "code",
   "execution_count": 26,
   "metadata": {},
   "outputs": [],
   "source": [
    "df['target_item_trend_1_2'] = df['target_item_lag_1'] - df['target_item_lag_2']\n",
    "df['target_item_trend_3_4'] = df['target_item_lag_1'] + df['target_item_lag_2'] - df['target_item_lag_3'] - df['target_item_lag_4']\n",
    "df['target_shop_trend_1_2'] = df['target_shop_lag_1'] - df['target_shop_lag_2']\n",
    "df['target_shop_trend_3_4'] = df['target_shop_lag_1'] + df['target_shop_lag_2'] - df['target_shop_lag_3'] - df['target_shop_lag_4']"
   ]
  },
  {
   "cell_type": "code",
   "execution_count": 34,
   "metadata": {
    "_uuid": "0717dfc2521eadf0733b97e1d3d7804fd33b13c1"
   },
   "outputs": [],
   "source": [
    "df = downcast_dtypes(df)\n",
    "df.to_pickle(\"df.pkl\")"
   ]
  },
  {
   "cell_type": "code",
   "execution_count": 3,
   "metadata": {},
   "outputs": [
    {
     "data": {
      "text/plain": [
       "11"
      ]
     },
     "execution_count": 3,
     "metadata": {},
     "output_type": "execute_result"
    }
   ],
   "source": [
    "gc.collect()"
   ]
  },
  {
   "cell_type": "markdown",
   "metadata": {
    "_uuid": "c32c22331cb650c04b62beb03bed5c23c6356628"
   },
   "source": [
    "# XGBoost part"
   ]
  },
  {
   "cell_type": "code",
   "execution_count": 2,
   "metadata": {
    "_uuid": "eb9976699e0785a3ef530166396a6452927f2e01"
   },
   "outputs": [],
   "source": [
    "import pandas as pd\n",
    "import numpy as np\n",
    "import os\n",
    "from sklearn.metrics import mean_squared_error, log_loss, accuracy_score, roc_curve, roc_auc_score\n",
    "import gc\n",
    "import xgboost as xgb\n",
    "from sklearn.model_selection import train_test_split\n",
    "import scipy.stats as st\n",
    "import seaborn as sns\n",
    "import matplotlib.pyplot as plt\n",
    "import pickle\n",
    "%matplotlib inline"
   ]
  },
  {
   "cell_type": "code",
   "execution_count": 9,
   "metadata": {
    "_uuid": "6af78d0c4a00a5e888608e0d6050529176f9cdc1"
   },
   "outputs": [],
   "source": [
    "df = pd.read_pickle(\"df.pkl\")\n",
    "\n",
    "drop_columns = [c for c in df if c[-1] not in ['1', '2', '3', '4', '5', '6', '7', '8', '9', '0'] and c.startswith('target')]\n",
    "drop_columns += ['ID']\n",
    "features = df.columns.difference( drop_columns )\n",
    "\n",
    "f0 = df.date_block_num < 34\n",
    "f1 = df.date_block_num == 34\n",
    "train, val = train_test_split(df[f0], test_size=0.05, stratify=df[f0]['target'])\n",
    "test = df[f1]\n"
   ]
  },
  {
   "cell_type": "code",
   "execution_count": 10,
   "metadata": {
    "_uuid": "4393eb7595699223eb3189ff37653236bd5c56ad"
   },
   "outputs": [
    {
     "name": "stderr",
     "output_type": "stream",
     "text": [
      "/usr/local/lib/python3.5/dist-packages/xgboost/core.py:587: FutureWarning: Series.base is deprecated and will be removed in a future version\n",
      "  if getattr(data, 'base', None) is not None and \\\n",
      "/usr/local/lib/python3.5/dist-packages/xgboost/core.py:588: FutureWarning: Series.base is deprecated and will be removed in a future version\n",
      "  data.base is not None and isinstance(data, np.ndarray) \\\n"
     ]
    }
   ],
   "source": [
    "Train = xgb.DMatrix( train[features], train['target'] )\n",
    "Val = xgb.DMatrix( val[features], val['target'] )\n",
    "Test = xgb.DMatrix( test[features])"
   ]
  },
  {
   "cell_type": "code",
   "execution_count": 11,
   "metadata": {
    "_uuid": "e9e5e511b9536e9d9831b784099b4b02f4e82aed"
   },
   "outputs": [
    {
     "data": {
      "text/plain": [
       "35"
      ]
     },
     "execution_count": 11,
     "metadata": {},
     "output_type": "execute_result"
    }
   ],
   "source": [
    "del df\n",
    "gc.collect()"
   ]
  },
  {
   "cell_type": "markdown",
   "metadata": {
    "_uuid": "ed7cdf4034940e003367f69287c7c13c4e12045c"
   },
   "source": [
    "For the hyperparameters optimization see the Hyperopt section below. Here are the parameters, which turned out to be optimal."
   ]
  },
  {
   "cell_type": "code",
   "execution_count": 24,
   "metadata": {
    "_uuid": "f069b71ea2a19024a2c5d3411c690c106a4da049",
    "scrolled": true
   },
   "outputs": [
    {
     "name": "stdout",
     "output_type": "stream",
     "text": [
      "[0]\tTrain-rmse:1.18917\tVal-rmse:1.18895\n",
      "Multiple eval metrics have been passed: 'Val-rmse' will be used for early stopping.\n",
      "\n",
      "Will train until Val-rmse hasn't improved in 10 rounds.\n",
      "[50]\tTrain-rmse:0.891185\tVal-rmse:0.892069\n",
      "[100]\tTrain-rmse:0.874618\tVal-rmse:0.8769\n",
      "[150]\tTrain-rmse:0.863641\tVal-rmse:0.866475\n",
      "[200]\tTrain-rmse:0.85552\tVal-rmse:0.858922\n",
      "[250]\tTrain-rmse:0.848616\tVal-rmse:0.852771\n",
      "[300]\tTrain-rmse:0.842647\tVal-rmse:0.847331\n",
      "[350]\tTrain-rmse:0.836898\tVal-rmse:0.842793\n",
      "[400]\tTrain-rmse:0.831858\tVal-rmse:0.838654\n",
      "[450]\tTrain-rmse:0.828343\tVal-rmse:0.835874\n",
      "[500]\tTrain-rmse:0.825008\tVal-rmse:0.833333\n",
      "[550]\tTrain-rmse:0.821285\tVal-rmse:0.830445\n",
      "[600]\tTrain-rmse:0.818308\tVal-rmse:0.828374\n",
      "[650]\tTrain-rmse:0.814468\tVal-rmse:0.825427\n",
      "[700]\tTrain-rmse:0.811473\tVal-rmse:0.823216\n",
      "[750]\tTrain-rmse:0.807953\tVal-rmse:0.820724\n",
      "[800]\tTrain-rmse:0.805196\tVal-rmse:0.818712\n",
      "[850]\tTrain-rmse:0.803253\tVal-rmse:0.817457\n",
      "[900]\tTrain-rmse:0.801063\tVal-rmse:0.815985\n",
      "[950]\tTrain-rmse:0.799129\tVal-rmse:0.814704\n",
      "[1000]\tTrain-rmse:0.796924\tVal-rmse:0.813267\n",
      "[1050]\tTrain-rmse:0.794312\tVal-rmse:0.811426\n",
      "[1100]\tTrain-rmse:0.79261\tVal-rmse:0.810196\n",
      "[1150]\tTrain-rmse:0.790341\tVal-rmse:0.808751\n",
      "[1200]\tTrain-rmse:0.788808\tVal-rmse:0.807897\n",
      "[1233]\tTrain-rmse:0.787698\tVal-rmse:0.807272\n",
      "CPU times: user 2min 49s, sys: 1min 6s, total: 3min 56s\n",
      "Wall time: 3min 56s\n"
     ]
    }
   ],
   "source": [
    "%%time\n",
    "\n",
    "xgb_params = {'booster': 'gbtree',\n",
    "          'eta': .1,\n",
    "          'min_child_weight': 100,\n",
    "          'max_depth': 6,\n",
    "          'objective': 'reg:linear',\n",
    "          'eval_metric': 'rmse',\n",
    "          'silent': False,\n",
    "          'nthread': 8,\n",
    "          'tree_method': 'gpu_hist'}\n",
    "\n",
    "model = xgb.train(xgb_params, Train, 1234, [(Train, 'Train'), (Val, 'Val')], early_stopping_rounds=10, verbose_eval=50 )"
   ]
  },
  {
   "cell_type": "code",
   "execution_count": 25,
   "metadata": {
    "_uuid": "e465a51d61744b2d8dfeabb10d85bf73e5823abc"
   },
   "outputs": [],
   "source": [
    "test['item_cnt_month'] = model.predict(Test).clip(0, 20)\n",
    "test[['ID', 'item_cnt_month']].sort_values('ID').to_csv('boost_pred-3.csv', index=False)"
   ]
  },
  {
   "cell_type": "code",
   "execution_count": 50,
   "metadata": {
    "_uuid": "1920856172503c2ba2240ff029bb6f081faaab86"
   },
   "outputs": [],
   "source": [
    "#pickle.dump(model, open(\"xgb.pickle\", \"wb\"))"
   ]
  },
  {
   "cell_type": "code",
   "execution_count": 51,
   "metadata": {
    "_uuid": "450f6afa23aaff79fe389a94240c7c94a4a8befa"
   },
   "outputs": [],
   "source": [
    "#model = pickle.load(open(\"xgb.pickle\", \"rb\"))"
   ]
  },
  {
   "cell_type": "markdown",
   "metadata": {
    "_uuid": "6a1b91e680b4eff876f7733be2373fad3af2ffd2"
   },
   "source": [
    "**item_id**, **date_block_num** and **month** have quite a predictive power :)"
   ]
  },
  {
   "cell_type": "code",
   "execution_count": 52,
   "metadata": {
    "_uuid": "3eb2612cacd746452b2bc58116db77a8132829a9"
   },
   "outputs": [
    {
     "data": {
      "text/plain": [
       "<matplotlib.axes._subplots.AxesSubplot at 0x7f37a9fe1828>"
      ]
     },
     "execution_count": 52,
     "metadata": {},
     "output_type": "execute_result"
    },
    {
     "data": {
      "image/png": "[encoded data removed]",
      "text/plain": [
       "<Figure size 432x288 with 1 Axes>"
      ]
     },
     "metadata": {},
     "output_type": "display_data"
    }
   ],
   "source": [
    "xgb.plot_importance(booster=model, max_num_features=24)"
   ]
  }
 ],
 "metadata": {
  "kernelspec": {
   "display_name": "Python 3",
   "language": "python",
   "name": "python3"
  },
  "language_info": {
   "codemirror_mode": {
    "name": "ipython",
    "version": 3
   },
   "file_extension": ".py",
   "mimetype": "text/x-python",
   "name": "python",
   "nbconvert_exporter": "python",
   "pygments_lexer": "ipython3",
   "version": "3.7.3"
  }
 },
 "nbformat": 4,
 "nbformat_minor": 1
}
